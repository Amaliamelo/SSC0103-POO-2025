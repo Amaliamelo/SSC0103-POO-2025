{
 "cells": [
  {
   "cell_type": "code",
   "execution_count": 41,
   "id": "152486f7-a443-40ac-868c-421567c9d8c7",
   "metadata": {},
   "outputs": [],
   "source": [
    "from selenium import webdriver\n",
    "from selenium.webdriver.common.by import By # Importar By para localizar elementos\n",
    "import time # Para adicionar pausas, se necessário\n",
    "from selenium.webdriver.support.ui import Select\n",
    "from bs4 import BeautifulSoup\n",
    "import sys\n",
    "from collections import defaultdict\n",
    "from selenium.webdriver.support.ui import WebDriverWait\n",
    "from selenium.webdriver.support import expected_conditions as EC"
   ]
  },
  {
   "cell_type": "code",
   "execution_count": 50,
   "id": "f5f4f5f0-eb99-49cc-a788-fa99cdcaa4dd",
   "metadata": {},
   "outputs": [],
   "source": [
    "class UnidadeUSP:\n",
    "    def __init__(self, nome):\n",
    "        self.nome = nome\n",
    "        self.cursos = []\n",
    "\n",
    "    def __str__(self):\n",
    "        return f\"Unidade: {self.nome, self.cursos}\"\n",
    "    \n",
    "    @staticmethod\n",
    "    def carregar_unidades(driver, limite=None):\n",
    "        unidades = []\n",
    "        combo_unidade = WebDriverWait(driver, 10).until(\n",
    "            EC.presence_of_element_located((By.ID, \"comboUnidade\"))\n",
    "        )\n",
    "        WebDriverWait(driver, 10).until(lambda d: len(Select(combo_unidade).options) > 1)\n",
    "        select_unidade = Select(combo_unidade)\n",
    "        #print(select_unidade.options)\n",
    "        total_opcoes = len(select_unidade.options)\n",
    "        if total_opcoes < 2:  # Deve ter pelo menos 1 opção além do vazio\n",
    "            raise ValueError(\"Nenhuma unidade carregada no comboUnidade.\")\n",
    "    \n",
    "        # Limitar ao menor valor entre o número de opções e o limite especificado\n",
    "        limite = min(limite, total_opcoes - 1)  \n",
    "       \n",
    "        # Carregar as unidades\n",
    "        for i in range(1, 4):  # Ignorar a primeira opção vazia\n",
    "            nome_unidade = select_unidade.options[i].text.strip()\n",
    "            if nome_unidade:  # Ignorar opções vazias\n",
    "                unidade = UnidadeUSP(nome_unidade)\n",
    "\n",
    "                # Selecionar a unidade e carregar os cursos\n",
    "                select_unidade.select_by_index(i)\n",
    "                unidade.cursos = CursoUSP.carregar_cursos(driver)\n",
    "\n",
    "                unidades.append(unidade)\n",
    "        return unidades\n",
    "\n",
    "    def carregar_cursos(self, driver):\n",
    "        combo_unidade = WebDriverWait(driver, 10).until(\n",
    "            EC.presence_of_element_located((By.ID, \"comboUnidade\"))\n",
    "        )\n",
    "        select_unidade = Select(combo_unidade)\n",
    "        \n",
    "        # Selecionar a unidade\n",
    "        for option in select_unidade.options:\n",
    "            if self.nome in option.text:\n",
    "                select_unidade.select_by_visible_text(option.text)\n",
    "                break\n",
    "        \n",
    "        # Esperar os cursos serem carregados\n",
    "        WebDriverWait(driver, 10).until(\n",
    "            lambda d: len(Select(d.find_element(By.ID, \"comboCurso\")).options) > 1\n",
    "        )\n",
    "        \n",
    "        # Carregar cursos\n",
    "        self.cursos = CursoUSP.carregar_cursos(driver)\n",
    "        "
   ]
  },
  {
   "cell_type": "code",
   "execution_count": 51,
   "id": "1769b7a5-c021-4e2e-91c1-36507fd08db2",
   "metadata": {},
   "outputs": [],
   "source": [
    "class CursoUSP:\n",
    "    @staticmethod\n",
    "    def carregar_cursos(driver):\n",
    "        combo_curso = WebDriverWait(driver, 10).until(\n",
    "            EC.presence_of_element_located((By.ID, \"comboCurso\"))\n",
    "        )\n",
    "        select_curso = Select(combo_curso)\n",
    "        \n",
    "        cursos = []\n",
    "        for option in select_curso.options:\n",
    "            nome_curso = option.text.strip()\n",
    "            if nome_curso:  # Ignorar opções vazias\n",
    "                cursos.append(nome_curso)\n",
    "        return cursos"
   ]
  },
  {
   "cell_type": "code",
   "execution_count": 52,
   "id": "a0269aa1-b847-4478-8f51-74495e42b2e9",
   "metadata": {},
   "outputs": [
    {
     "name": "stdout",
     "output_type": "stream",
     "text": [
      "Carregando cursos para a unidade: Escola de Artes, Ciências e Humanidades - ( EACH )\n",
      "Unidade: ('Escola de Artes, Ciências e Humanidades - ( EACH )', ['Bacharelado em Biotecnologia (Ciclo Básico) - integral', 'Bacharelado em Educação Física e Saúde (Ciclo Básico) - integral', 'Bacharelado em Gestão Ambiental (Ciclo Básico) - matutino', 'Bacharelado em Gestão Ambiental (Ciclo Básico) - noturno', 'Bacharelado em Lazer e Turismo (Ciclo Básico) - vespertino', 'Bacharelado em Lazer e Turismo (Ciclo Básico) - noturno', 'Bacharelado em Sistemas de Informação (Ciclo Básico) - matutino', 'Bacharelado em Sistemas de Informação (Ciclo Básico) - noturno', 'Bacharelado em Têxtil e Moda (Ciclo Básico) - matutino', 'Gerontologia (Ciclo Básico) - vespertino', 'Gestão de Políticas Públicas (Ciclo Básico) - matutino', 'Gestão de Políticas Públicas (Ciclo Básico) - noturno', 'Licenciatura em Ciências da Natureza (Ciclo Básico) - noturno', 'Marketing (Ciclo Básico) - matutino', 'Marketing (Ciclo Básico) - noturno', 'Obstetrícia (Ciclo Básico) - integral'])\n",
      "Carregando cursos para a unidade: Escola de Comunicações e Artes - ( ECA )\n",
      "Unidade: ('Escola de Comunicações e Artes - ( ECA )', ['Artes Cênicas (Ciclo Básico) - integral', 'Artes Visuais (Ciclo Básico) - integral', 'Bacharelado em Comunicação Social (Habilitação em Editoração) - matutino', 'Bacharelado em Comunicação Social (Habilitação em Publicidade e Propaganda) - matutino', 'Bacharelado em Comunicação Social (Habilitação em Publicidade e Propaganda) - noturno', 'Bacharelado em Jornalismo - matutino', 'Bacharelado em Jornalismo - noturno', 'Bacharelado em Relações Públicas - matutino', 'Bacharelado em Relações Públicas - noturno', 'Biblioteconomia e Ciência da Informação - matutino', 'Biblioteconomia e Ciência da Informação - noturno', 'Curso Superior do Audiovisual - integral', 'Licenciatura em Educomunicação - noturno', 'Música - Bacharelado (Ciclo Básico - Composição e Regência) - integral', 'Música - Bacharelado (Habilitação em Canto e Arte Lírica) - integral', 'Música - Bacharelado (Habilitação em Instrumento de Cordas - Ênfase em Contrabaixo) - integral', 'Música - Bacharelado (Habilitação em Instrumento de Cordas - Ênfase em Violino) - integral', 'Música - Bacharelado (Habilitação em Instrumento de Cordas - Ênfase em Violoncelo) - integral', 'Música - Bacharelado (Habilitação em Instrumento de Cordas Dedilhadas - Ênfase em Viola Brasileira) - integral', 'Música - Bacharelado (Habilitação em Instrumento de Cordas Dedilhadas - Ênfase em Violão) - integral', 'Música - Bacharelado (Habilitação em Instrumento de Sopro - Ênfase em Clarinete) - integral', 'Música - Bacharelado (Habilitação em Instrumento de Sopro - Ênfase em Clarone) - integral', 'Música - Bacharelado (Habilitação em Instrumento de Sopro - Ênfase em Fagote) - integral', 'Música - Bacharelado (Habilitação em Instrumento de Sopro - Ênfase em Flauta) - integral', 'Música - Bacharelado (Habilitação em Instrumento de Sopro - Ênfase em Oboé) - integral', 'Música - Bacharelado (Habilitação em Instrumento de Sopro - Ênfase em Trombone) - integral', 'Música - Bacharelado (Habilitação em Instrumento de Sopro - Ênfase em Trompa) - integral', 'Música - Bacharelado (Habilitação em Instrumento de Sopro - Ênfase em Trompete) - integral', 'Música - Bacharelado (Habilitação em Instrumento de Sopro - Ênfase em Tuba) - integral', 'Música - Bacharelado (Habilitação em Instrumento de Teclado - Ênfase em Órgão) - integral', 'Música - Bacharelado (Habilitação em Instrumento de Teclado - Ênfase em Piano) - integral', 'Música - Bacharelado (Habilitação em Instrumento Percussão) - integral', 'Música - Licenciatura - integral', 'Turismo - noturno'])\n",
      "Carregando cursos para a unidade: Escola de Educação Física e Esporte - ( EEFE )\n",
      "Unidade: ('Escola de Educação Física e Esporte - ( EEFE )', ['Educação Física (Núcleo Geral) - integral'])\n"
     ]
    }
   ],
   "source": [
    "def main():\n",
    "    driver = webdriver.Chrome()\n",
    "    driver.get(\"https://uspdigital.usp.br/jupiterweb/jupCarreira.jsp?codmnu=8275\")\n",
    "\n",
    "    unidades = UnidadeUSP.carregar_unidades(driver, limite=3)\n",
    "    \n",
    "    for unidade in unidades:\n",
    "        print(f\"Carregando cursos para a unidade: {unidade.nome}\")\n",
    "        unidade.carregar_cursos(driver)\n",
    "        print(unidade)  # Exibir os cursos associados à unidade\n",
    "        \n",
    "        # Associar cursos à unidade atual\n",
    "\n",
    "    # Fechar o navegador ao terminar\n",
    "    driver.quit()\n",
    "\n",
    "if __name__ == \"__main__\":\n",
    "    main()"
   ]
  },
  {
   "cell_type": "code",
   "execution_count": null,
   "id": "b73ec882-53bf-4c4f-8ed0-2109c777c378",
   "metadata": {},
   "outputs": [],
   "source": []
  }
 ],
 "metadata": {
  "kernelspec": {
   "display_name": "Python 3 (ipykernel)",
   "language": "python",
   "name": "python3"
  },
  "language_info": {
   "codemirror_mode": {
    "name": "ipython",
    "version": 3
   },
   "file_extension": ".py",
   "mimetype": "text/x-python",
   "name": "python",
   "nbconvert_exporter": "python",
   "pygments_lexer": "ipython3",
   "version": "3.12.3"
  }
 },
 "nbformat": 4,
 "nbformat_minor": 5
}
