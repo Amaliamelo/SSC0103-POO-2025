{
 "cells": [
  {
   "cell_type": "code",
   "execution_count": 16,
   "id": "152486f7-a443-40ac-868c-421567c9d8c7",
   "metadata": {},
   "outputs": [],
   "source": [
    "from selenium import webdriver\n",
    "from selenium.webdriver.common.by import By # Importar By para localizar elementos\n",
    "import time # Para adicionar pausas, se necessário\n",
    "from selenium.webdriver.support.ui import Select\n",
    "from bs4 import BeautifulSoup\n",
    "import sys\n",
    "from collections import defaultdict\n",
    "from selenium.webdriver.support.ui import WebDriverWait\n",
    "from selenium.webdriver.support import expected_conditions as EC"
   ]
  },
  {
   "cell_type": "code",
   "execution_count": 94,
   "id": "f5f4f5f0-eb99-49cc-a788-fa99cdcaa4dd",
   "metadata": {},
   "outputs": [],
   "source": [
    "class UnidadeUSP:\n",
    "    def __init__(self, nome):\n",
    "        self.nome = nome\n",
    "        self.cursos = []\n",
    "\n",
    "    def __str__(self):\n",
    "        return f\"Unidade: {self.nome}\"\n",
    "    \n",
    "    @staticmethod\n",
    "    def carregar_unidades(driver, limite=None):\n",
    "        unidades = []\n",
    "        combo_unidade = WebDriverWait(driver, 5).until(\n",
    "            EC.presence_of_element_located((By.ID, \"comboUnidade\"))\n",
    "        )\n",
    "        select = Select(combo_unidade)\n",
    "       \n",
    "        # Carregar as unidades\n",
    "        for i in range(1, 4):  # Ignorar a primeira opção vazia\n",
    "            nome_unidade = select.options[i].text.strip()\n",
    "            if nome_unidade:  # Ignorar opções vazias\n",
    "                unidades.append(UnidadeUSP(nome_unidade))\n",
    "        return unidades\n",
    "        "
   ]
  },
  {
   "cell_type": "code",
   "execution_count": 95,
   "id": "a0269aa1-b847-4478-8f51-74495e42b2e9",
   "metadata": {},
   "outputs": [
    {
     "name": "stdout",
     "output_type": "stream",
     "text": [
      "Unidade: Escola de Artes, Ciências e Humanidades - ( EACH )\n",
      "Unidade: Escola de Comunicações e Artes - ( ECA )\n",
      "Unidade: Escola de Educação Física e Esporte - ( EEFE )\n"
     ]
    }
   ],
   "source": [
    "def main():\n",
    "    driver = webdriver.Chrome()\n",
    "    driver.get(\"https://uspdigital.usp.br/jupiterweb/jupCarreira.jsp?codmnu=8275\")\n",
    "\n",
    "    unidades = UnidadeUSP.carregar_unidades(driver, limite=3)\n",
    "    \n",
    "    for unidade in unidades:\n",
    "        print(f\"Unidade: {unidade.nome}\")\n",
    "        \n",
    "        # Associar cursos à unidade atual\n",
    "\n",
    "    # Fechar o navegador ao terminar\n",
    "    driver.quit()\n",
    "\n",
    "if __name__ == \"__main__\":\n",
    "    main()"
   ]
  },
  {
   "cell_type": "code",
   "execution_count": null,
   "id": "b73ec882-53bf-4c4f-8ed0-2109c777c378",
   "metadata": {},
   "outputs": [],
   "source": []
  }
 ],
 "metadata": {
  "kernelspec": {
   "display_name": "Python 3 (ipykernel)",
   "language": "python",
   "name": "python3"
  },
  "language_info": {
   "codemirror_mode": {
    "name": "ipython",
    "version": 3
   },
   "file_extension": ".py",
   "mimetype": "text/x-python",
   "name": "python",
   "nbconvert_exporter": "python",
   "pygments_lexer": "ipython3",
   "version": "3.12.3"
  }
 },
 "nbformat": 4,
 "nbformat_minor": 5
}
