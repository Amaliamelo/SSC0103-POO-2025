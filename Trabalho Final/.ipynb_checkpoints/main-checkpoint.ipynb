{
 "cells": [
  {
   "cell_type": "code",
   "execution_count": 17,
   "id": "152486f7-a443-40ac-868c-421567c9d8c7",
   "metadata": {},
   "outputs": [],
   "source": [
    "from selenium import webdriver\n",
    "from selenium.webdriver.common.by import By # Importar By para localizar elementos\n",
    "import time # Para adicionar pausas, se necessário\n",
    "from selenium.webdriver.support.ui import Select\n",
    "from bs4 import BeautifulSoup\n",
    "import sys\n",
    "sys.argv = [\"meuprograma.py\", \"3\"]  # Simula a entrada de linha de comando\n",
    "from collections import defaultdict"
   ]
  },
  {
   "cell_type": "code",
   "execution_count": 41,
   "id": "dc1edb24-6575-459d-9510-b3ee5f97cadb",
   "metadata": {},
   "outputs": [],
   "source": [
    "# Exemplo para Chrome (assumindo que o chromedriver está no PATH ou na mesma pasta)\n",
    "driver = webdriver.Chrome()\n",
    "\n",
    "# --- Navegar para uma página ---\n",
    "url = \"https://uspdigital.usp.br/jupiterweb/jupCarreira.jsp?codmnu=8275\" # Exemplo: Google\n",
    "driver.get(url)"
   ]
  },
  {
   "cell_type": "code",
   "execution_count": 50,
   "id": "ae5e5b8e-75a4-4020-b629-83d2efd98899",
   "metadata": {},
   "outputs": [],
   "source": [
    "class UnidadeUSP:\n",
    "    def __init__(self, nome):\n",
    "        self.nome = nome\n",
    "        self.cursos = []\n",
    "\n",
    "    def __str__(self):\n",
    "        return f\"Unidade: {self.nome}\"\n",
    "\n",
    "    @staticmethod\n",
    "    def carregar_unidades(driver, quantidade=3):\n",
    "        unidades = []\n",
    "        combo_unidade = driver.find_element(By.ID, \"comboUnidade\")\n",
    "        select = Select(combo_unidade)\n",
    "\n",
    "        for i in range(1, quantidade+1):  # pula o índice 0 (vazio)\n",
    "            select.select_by_index(i)\n",
    "            selected_option = select.first_selected_option\n",
    "            nome_unidade = selected_option.text\n",
    "            unidades.append(UnidadeUSP(nome_unidade))\n",
    "\n",
    "        return unidades\n"
   ]
  },
  {
   "cell_type": "code",
   "execution_count": 51,
   "id": "fd44d403-f7ed-41be-ab66-0ae8a2645e71",
   "metadata": {},
   "outputs": [
    {
     "name": "stdout",
     "output_type": "stream",
     "text": [
      "Unidade: Escola de Artes, Ciências e Humanidades - ( EACH )\n",
      "Unidade: Escola de Comunicações e Artes - ( ECA )\n",
      "Unidade: Escola de Educação Física e Esporte - ( EEFE )\n"
     ]
    }
   ],
   "source": [
    "lista_unidades = UnidadeUSP.carregar_unidades(driver, 3)\n",
    "\n",
    "for unidade in lista_unidades:\n",
    "    print(unidade) "
   ]
  },
  {
   "cell_type": "code",
   "execution_count": null,
   "id": "d7822509-fbc7-47a8-84d7-f76603c74554",
   "metadata": {},
   "outputs": [],
   "source": []
  }
 ],
 "metadata": {
  "kernelspec": {
   "display_name": "Python 3 (ipykernel)",
   "language": "python",
   "name": "python3"
  },
  "language_info": {
   "codemirror_mode": {
    "name": "ipython",
    "version": 3
   },
   "file_extension": ".py",
   "mimetype": "text/x-python",
   "name": "python",
   "nbconvert_exporter": "python",
   "pygments_lexer": "ipython3",
   "version": "3.12.3"
  }
 },
 "nbformat": 4,
 "nbformat_minor": 5
}
